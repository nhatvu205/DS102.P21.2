{
 "cells": [
  {
   "cell_type": "code",
   "execution_count": 14,
   "metadata": {},
   "outputs": [],
   "source": [
    "import pandas as pd\n",
    "import numpy as np"
   ]
  },
  {
   "cell_type": "code",
   "execution_count": 15,
   "metadata": {},
   "outputs": [
    {
     "name": "stdout",
     "output_type": "stream",
     "text": [
      "Total NaN:  0\n",
      "Total null:  0\n",
      "Data type:  int64\n",
      "++++++++++\n",
      "Total NaN:  0\n",
      "Total null:  0\n",
      "Data type:  int64\n",
      "++++++++++\n",
      "Total NaN:  0\n",
      "Total null:  0\n",
      "Data type:  object\n",
      "++++++++++\n",
      "Total NaN:  0\n",
      "Total null:  0\n",
      "Data type:  object\n",
      "++++++++++\n",
      "Total NaN:  0\n",
      "Total null:  0\n",
      "Data type:  float64\n",
      "++++++++++\n",
      "Total NaN:  0\n",
      "Total null:  0\n",
      "Data type:  float64\n",
      "++++++++++\n",
      "Total NaN:  0\n",
      "Total null:  0\n",
      "Data type:  float64\n",
      "++++++++++\n",
      "Total NaN:  0\n",
      "Total null:  0\n",
      "Data type:  float64\n",
      "++++++++++\n",
      "Total NaN:  0\n",
      "Total null:  0\n",
      "Data type:  float64\n",
      "++++++++++\n",
      "Total NaN:  0\n",
      "Total null:  0\n",
      "Data type:  int64\n",
      "++++++++++\n",
      "Total NaN:  0\n",
      "Total null:  0\n",
      "Data type:  float64\n",
      "++++++++++\n",
      "Total NaN:  0\n",
      "Total null:  0\n",
      "Data type:  float64\n",
      "++++++++++\n",
      "Total NaN:  0\n",
      "Total null:  0\n",
      "Data type:  float64\n",
      "++++++++++\n"
     ]
    }
   ],
   "source": [
    "df = pd.read_csv(\"forestfires.csv\")\n",
    "for col_name in df.columns:\n",
    "    print(\"Total NaN: \", df[col_name].isna().sum())\n",
    "    print(\"Total null: \", df[col_name].isnull().sum())\n",
    "    print(\"Data type: \", df[col_name].dtype)\n",
    "    print(\"+\"*10)"
   ]
  },
  {
   "cell_type": "code",
   "execution_count": null,
   "metadata": {},
   "outputs": [],
   "source": [
    "def convert_day(day):\n",
    "    days = {\n",
    "        \"mon\" : 2,\n",
    "        \"tue\" : 3,\n",
    "        \"wed\" : 4,\n",
    "        \"thu\" : 5,\n",
    "        \"fri\" : 6,\n",
    "        \"sat\" : 7,\n",
    "        \"sun\" : 8\n",
    "    }\n",
    "    return days.get(day.lower(), -1)\n",
    "\n",
    "def convert_month(month):\n",
    "    months = {\n",
    "        \"jan\" : 1,\n",
    "        \"feb\" : 2,\n",
    "        \"mar\" : 3,\n",
    "        \"apr\" : 4,\n",
    "        \"may\" : 5,\n",
    "        \"jun\" : 6,\n",
    "        \"jul\" : 7,\n",
    "        \"aug\" : 8,\n",
    "        \"sep\" : 9,\n",
    "        \"oct\" : 10,\n",
    "        \"nov\" : 11,\n",
    "        \"dec\" : 12\n",
    "    }\n",
    "    return months.get(month.lower(), -1)"
   ]
  },
  {
   "cell_type": "code",
   "execution_count": 17,
   "metadata": {},
   "outputs": [
    {
     "name": "stdout",
     "output_type": "stream",
     "text": [
      "     X  Y  month  day  FFMC    DMC     DC   ISI  temp  RH  wind  rain   area\n",
      "0    7  5      3    6  86.2   26.2   94.3   5.1   8.2  51   6.7   0.0   0.00\n",
      "1    7  4     10    3  90.6   35.4  669.1   6.7  18.0  33   0.9   0.0   0.00\n",
      "2    7  4     10    7  90.6   43.7  686.9   6.7  14.6  33   1.3   0.0   0.00\n",
      "3    8  6      3    6  91.7   33.3   77.5   9.0   8.3  97   4.0   0.2   0.00\n",
      "4    8  6      3    8  89.3   51.3  102.2   9.6  11.4  99   1.8   0.0   0.00\n",
      "..  .. ..    ...  ...   ...    ...    ...   ...   ...  ..   ...   ...    ...\n",
      "512  4  3      8    8  81.6   56.7  665.6   1.9  27.8  32   2.7   0.0   6.44\n",
      "513  2  4      8    8  81.6   56.7  665.6   1.9  21.9  71   5.8   0.0  54.29\n",
      "514  7  4      8    8  81.6   56.7  665.6   1.9  21.2  70   6.7   0.0  11.16\n",
      "515  1  4      8    7  94.4  146.0  614.7  11.3  25.6  42   4.0   0.0   0.00\n",
      "516  6  3     11    3  79.5    3.0  106.7   1.1  11.8  31   4.5   0.0   0.00\n",
      "\n",
      "[517 rows x 13 columns]\n"
     ]
    }
   ],
   "source": [
    "df[\"day\"] = df[\"day\"].apply(convert_day)\n",
    "df[\"month\"] = df[\"month\"].apply(convert_month)\n",
    "print(df)"
   ]
  },
  {
   "cell_type": "code",
   "execution_count": 22,
   "metadata": {},
   "outputs": [],
   "source": [
    "import numpy as np\n",
    "X = df.iloc[:, :-1]\n",
    "y = df.iloc[:, -1]\n",
    "\n",
    "def split(X, y, train_size = 0.8):\n",
    "    X = np.array(X)\n",
    "    y = np.array(y)\n",
    "\n",
    "    num_samples = X.shape[0]\n",
    "    train_size = int(train_size * num_samples)\n",
    "\n",
    "    X_train, X_test = X[:train_size], X[train_size:]\n",
    "    y_train, y_test = y[:train_size], y[train_size:]\n",
    "\n",
    "    return X_train, X_test, y_train, y_test\n",
    "X_train, X_test, y_train, y_test = split(X, y, train_size = 0.8)"
   ]
  },
  {
   "cell_type": "code",
   "execution_count": 36,
   "metadata": {},
   "outputs": [],
   "source": [
    "import numpy as np\n",
    "\n",
    "class LinearRegressionCustom:\n",
    "    def __init__(self, learning_rate=0.01, epochs=1000):\n",
    "        \"\"\"\n",
    "        Khởi tạo mô hình Linear Regression với Gradient Descent.\n",
    "        \"\"\"\n",
    "        self.learning_rate = learning_rate  # Tốc độ học (alpha)\n",
    "        self.epochs = epochs  # Số vòng lặp tối đa\n",
    "        self.weights = None  # Trọng số mô hình\n",
    "\n",
    "    def fit(self, X, y):\n",
    "        \"\"\"\n",
    "        Huấn luyện mô hình trên dữ liệu X, y.\n",
    "        Args:\n",
    "            X (numpy.ndarray): Ma trận đặc trưng (features).\n",
    "            y (numpy.ndarray): Vector đầu ra (labels).\n",
    "        \"\"\"\n",
    "        # Chuyển X, y về numpy array nếu cần\n",
    "        X = np.array(X)\n",
    "        y = np.array(y).reshape(-1)  # Đảm bảo y có dạng 1D\n",
    "\n",
    "        # Thêm cột bias (x_0 = 1) vào X\n",
    "        X = np.c_[np.ones(X.shape[0]), X]\n",
    "\n",
    "        # Khởi tạo trọng số ngẫu nhiên nhỏ\n",
    "        self.weights = np.random.randn(X.shape[1]) * 0.01  \n",
    "\n",
    "        # Gradient Descent\n",
    "        m = len(y)  # Số lượng mẫu\n",
    "        for _ in range(self.epochs):\n",
    "            y_pred = X.dot(self.weights)  # Dự đoán y\n",
    "            error = y_pred - y  # Sai số\n",
    "            gradient = (1/m) * X.T.dot(error)  # Gradient của MSE theo W\n",
    "            self.weights -= self.learning_rate * gradient  # Cập nhật W\n",
    "\n",
    "    def predict(self, X):\n",
    "        \"\"\"\n",
    "        Dự đoán giá trị đầu ra dựa trên mô hình đã huấn luyện.\n",
    "        Args:\n",
    "            X (numpy.ndarray): Ma trận đặc trưng (features).\n",
    "        Returns:\n",
    "            numpy.ndarray: Giá trị dự đoán.\n",
    "        \"\"\"\n",
    "        X = np.array(X)  # Đảm bảo X là numpy array\n",
    "        X = np.c_[np.ones(X.shape[0]), X]  # Thêm cột bias\n",
    "        return X.dot(self.weights)  # Trả về giá trị dự đoán\n"
   ]
  },
  {
   "cell_type": "code",
   "execution_count": 40,
   "metadata": {},
   "outputs": [],
   "source": [
    "# Tạo mô hình hồi quy tuyến tính tự định nghĩa\n",
    "model_custom = LinearRegressionCustom(learning_rate=0.001, epochs=5000)\n",
    "\n",
    "# Huấn luyện mô hình với tập training\n",
    "model_custom.fit(X_train, y_train)\n",
    "\n",
    "# Dự đoán trên tập test\n",
    "y_pred = model_custom.predict(X_test)  # Thêm dòng này\n"
   ]
  },
  {
   "cell_type": "code",
   "execution_count": 39,
   "metadata": {},
   "outputs": [
    {
     "name": "stdout",
     "output_type": "stream",
     "text": [
      "First 10 actual values: [  0.     0.   746.28   7.02   0.     2.44   3.05 185.76   0.     6.3 ]\n",
      "First 10 predicted values: [nan nan nan nan nan nan nan nan nan nan]\n",
      "Min/Max actual: 0.0 746.28\n",
      "Min/Max predicted: nan nan\n"
     ]
    }
   ],
   "source": [
    "print(\"First 10 actual values:\", y_test[:10])\n",
    "print(\"First 10 predicted values:\", y_pred[:10])\n",
    "print(\"Min/Max actual:\", min(y_test), max(y_test))\n",
    "print(\"Min/Max predicted:\", min(y_pred), max(y_pred))"
   ]
  },
  {
   "cell_type": "code",
   "execution_count": 42,
   "metadata": {},
   "outputs": [
    {
     "name": "stdout",
     "output_type": "stream",
     "text": [
      "y_test shape: (104,), y_pred shape: (104,)\n"
     ]
    },
    {
     "data": {
      "image/png": "[encoded data removed]",
      "text/plain": [
       "<Figure size 1000x500 with 1 Axes>"
      ]
     },
     "metadata": {},
     "output_type": "display_data"
    }
   ],
   "source": [
    "import matplotlib.pyplot as plt\n",
    "\n",
    "# Đảm bảo y_test là numpy array\n",
    "if not isinstance(y_test, np.ndarray):\n",
    "    y_test = y_test.values  # Chuyển từ pandas Series về numpy\n",
    "\n",
    "# Kiểm tra kích thước dữ liệu trước khi vẽ\n",
    "print(f\"y_test shape: {y_test.shape}, y_pred shape: {y_pred.shape}\")\n",
    "\n",
    "# Vẽ biểu đồ so sánh giá trị thực tế và giá trị dự đoán\n",
    "plt.figure(figsize=(10, 5))\n",
    "plt.scatter(y_test, y_pred, alpha=1.0, color='blue', label=\"Predicted vs Actual\")\n",
    "plt.plot([min(y_test), max(y_test)], [min(y_test), max(y_test)], color='red', linestyle='dashed', linewidth=2, label=\"Perfect Fit\")\n",
    "\n",
    "# Thêm nhãn và tiêu đề\n",
    "plt.xlabel(\"Actual Values\")\n",
    "plt.ylabel(\"Predicted Values\")\n",
    "plt.title(\"Actual vs Predicted Fire Area (Custom Linear Regression)\")\n",
    "plt.legend()\n",
    "plt.show()\n"
   ]
  }
 ],
 "metadata": {
  "kernelspec": {
   "display_name": "Python 3",
   "language": "python",
   "name": "python3"
  },
  "language_info": {
   "codemirror_mode": {
    "name": "ipython",
    "version": 3
   },
   "file_extension": ".py",
   "mimetype": "text/x-python",
   "name": "python",
   "nbconvert_exporter": "python",
   "pygments_lexer": "ipython3",
   "version": "3.11.9"
  }
 },
 "nbformat": 4,
 "nbformat_minor": 2
}
