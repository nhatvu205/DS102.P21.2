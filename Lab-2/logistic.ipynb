{
 "cells": [
  {
   "cell_type": "code",
   "execution_count": 19,
   "metadata": {},
   "outputs": [],
   "source": [
    "import numpy as np\n",
    "import pandas as pd\n",
    "from sklearn.model_selection import train_test_split\n",
    "from sklearn.preprocessing import StandardScaler\n",
    "import tqdm"
   ]
  },
  {
   "cell_type": "code",
   "execution_count": 20,
   "metadata": {},
   "outputs": [
    {
     "name": "stdout",
     "output_type": "stream",
     "text": [
      "   Marital status  Application mode  Application order  Course  Daytime/evening attendance\\t  Previous qualification  Previous qualification (grade)  Nacionality  Mother's qualification  Father's qualification  ...  Curricular units 2nd sem (credited)  Curricular units 2nd sem (enrolled)  Curricular units 2nd sem (evaluations)  Curricular units 2nd sem (approved)  Curricular units 2nd sem (grade)  Curricular units 2nd sem (without evaluations)  Unemployment rate  Inflation rate   GDP    Target\n",
      "0               1                17                  5     171                             1                       1                           122.0            1                      19                      12  ...                                    0                                    0                                       0                                    0                          0.000000                                               0               10.8             1.4  1.74   Dropout\n",
      "1               1                15                  1    9254                             1                       1                           160.0            1                       1                       3  ...                                    0                                    6                                       6                                    6                         13.666667                                               0               13.9            -0.3  0.79  Graduate\n",
      "2               1                 1                  5    9070                             1                       1                           122.0            1                      37                      37  ...                                    0                                    6                                       0                                    0                          0.000000                                               0               10.8             1.4  1.74   Dropout\n",
      "3               1                17                  2    9773                             1                       1                           122.0            1                      38                      37  ...                                    0                                    6                                      10                                    5                         12.400000                                               0                9.4            -0.8 -3.12  Graduate\n",
      "4               2                39                  1    8014                             0                       1                           100.0            1                      37                      38  ...                                    0                                    6                                       6                                    6                         13.000000                                               0               13.9            -0.3  0.79  Graduate\n",
      "\n",
      "[5 rows x 37 columns]\n"
     ]
    }
   ],
   "source": [
    "#nhập dữ liệu\n",
    "df = pd.read_csv(\"data.csv\", delimiter = \";\")\n",
    "pd.set_option('display.width', 500)\n",
    "print(df.head())"
   ]
  },
  {
   "cell_type": "code",
   "execution_count": 21,
   "metadata": {},
   "outputs": [],
   "source": [
    "#chuẩn hóa dữ liệu\n",
    "df.columns = df.columns.str.strip()\n",
    "#chuyển target thành nhị phân 0, 1 \n",
    "df[\"Target\"] = df[\"Target\"].map({\"Graduate\" : 1, \"Enrolled\" : 0, \"Dropout\" : 0})\n",
    "\n",
    "#Xác định X và y\n",
    "X = df.drop(columns = [\"Target\"])\n",
    "y = df[\"Target\"]\n",
    "\n",
    "#Chia dataset thành 3 phần theo tỉ lệ 8:1:1\n",
    "X_train, X_temp, y_train, y_temp = train_test_split(X, y, test_size = 0.2, random_state = 42)\n",
    "X_dev, X_test, y_dev, y_test = train_test_split(X_temp, y_temp, test_size = 0.5, random_state = 42)"
   ]
  },
  {
   "cell_type": "code",
   "execution_count": 26,
   "metadata": {},
   "outputs": [],
   "source": [
    "#class Logistic Regression\n",
    "class LogisticRegression:\n",
    "    def __init__(self, epochs: int, lr: float) -> None:\n",
    "        self.lr = lr\n",
    "        self.epochs = epochs\n",
    "        self.losses = []\n",
    "        self.metric = []\n",
    "    #tạo hàm sigmoid để biến giá trị đầu ra thành 0 đến 1\n",
    "    def sigmoid(self, z: np.ndarray) -> np.ndarray:\n",
    "        return 1/(1 + np.exp(-z))\n",
    "    #tạo hàm mất mát để đo độ chênh lệch giữa dự đoán vs. thực tế\n",
    "    def loss_fn(self, y: np.ndarray, y_hat: np.ndarray) -> float:\n",
    "        return -(y*np.log(y_hat) + (1 - y)*np.log(1 - y_hat)).mean()\n",
    "    #tạo hàm accuracy để đánh giá mô hình\n",
    "    def accuracy(self, y: np.ndarray, y_hat: np.ndarray) -> float:\n",
    "        return (1 - np.abs((y - y_hat)).mean())\n",
    "\n",
    "    def predict(self, X: np.ndarray) -> np.ndarray:\n",
    "        z = np.dot(X, self.theta)\n",
    "        return self.sigmoid(z)\n",
    "    \n",
    "    def fit(self, X: np.ndarray, y: np.ndarray) -> None:\n",
    "        n = X.shape[0]\n",
    "        d = X.shape[1]\n",
    "        self.theta = np.zeros((d , 1))\n",
    "        y = y.values.reshape(-1, 1)\n",
    "        with tqdm.tqdm(range(self.epochs)) as pb:\n",
    "            for e in pb:\n",
    "                #forward\n",
    "                pb.set_description(f\"epochs {e + 1}\")\n",
    "                y_hat = self.predict(X)\n",
    "                #backward\n",
    "                diff = y_hat - y\n",
    "                gradient = 1/n * np.matmul(X.T, diff) #(d, 1)\n",
    "                self.theta -= self.lr*gradient\n",
    "\n",
    "                #evaluating\n",
    "                y_hat = self.predict(X)\n",
    "                loss = self.loss_fn(y, y_hat)\n",
    "                acc = self.accuracy(y, y_hat)\n",
    "                pb.set_postfix({\n",
    "                    \"loss\": loss,\n",
    "                    \"acc\": acc\n",
    "                })\n",
    "\n",
    "                self.losses.append(loss)\n",
    "                self.metric.append(acc)"
   ]
  },
  {
   "cell_type": "code",
   "execution_count": 32,
   "metadata": {},
   "outputs": [
    {
     "name": "stderr",
     "output_type": "stream",
     "text": [
      "epochs 1000: 100%|██████████| 1000/1000 [00:01<00:00, 598.50it/s, loss=0.384, acc=0.732]"
     ]
    },
    {
     "name": "stdout",
     "output_type": "stream",
     "text": [
      "Accuracy trên tập dev: 0.84\n"
     ]
    },
    {
     "name": "stderr",
     "output_type": "stream",
     "text": [
      "\n"
     ]
    }
   ],
   "source": [
    "#huấn luyện mô hình và kiểm tra trên tập dev\n",
    "scaler = StandardScaler()\n",
    "X_train = scaler.fit_transform(X_train)\n",
    "X_dev = scaler.transform(X_dev)\n",
    "X_test = scaler.transform(X_test)\n",
    "\n",
    "model = LogisticRegression(lr=0.01, epochs=1000)\n",
    "model.fit(X_train, y_train)\n",
    "\n",
    "y_pred_dev = model.predict(X_dev).flatten()\n",
    "y_pred_dev_labels = (y_pred_dev >= 0.5).astype(int)\n",
    "\n",
    "accuracy_dev = model.accuracy(y_dev, y_pred_dev_labels)\n",
    "print(f\"Accuracy trên tập dev: {accuracy_dev:.2f}\")"
   ]
  },
  {
   "cell_type": "code",
   "execution_count": null,
   "metadata": {},
   "outputs": [
    {
     "name": "stdout",
     "output_type": "stream",
     "text": [
      "Accuracy trên tập test: 0.80%\n"
     ]
    }
   ],
   "source": [
    "#kiểm tra trên tập test\n",
    "y_pred_test = model.predict(X_test).flatten()\n",
    "y_pred_test_labels = (y_pred_test >= 0.5).astype(int)\n",
    "\n",
    "accuracy_test = model.accuracy(y_test, y_pred_test_labels)\n",
    "print(f\"Accuracy trên tập test: {accuracy_test:.2f}\")"
   ]
  }
 ],
 "metadata": {
  "kernelspec": {
   "display_name": "Python 3",
   "language": "python",
   "name": "python3"
  },
  "language_info": {
   "codemirror_mode": {
    "name": "ipython",
    "version": 3
   },
   "file_extension": ".py",
   "mimetype": "text/x-python",
   "name": "python",
   "nbconvert_exporter": "python",
   "pygments_lexer": "ipython3",
   "version": "3.13.2"
  }
 },
 "nbformat": 4,
 "nbformat_minor": 2
}
